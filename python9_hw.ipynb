{
 "cells": [
  {
   "cell_type": "code",
   "execution_count": 295,
   "metadata": {},
   "outputs": [
    {
     "name": "stdout",
     "output_type": "stream",
     "text": [
      "({\"'\": 9, ' ': 56, '!': 3, ',': 4, '.': 3, '?': 1}, 7, [\"it's\", \"it's\", \"don't\", \"you're\", \"you've\", \"you're\", \"doesn't\", \"you've\", \"it's\"], [4, 9, 5, 9, 10, 10, 10], [20, 46, 22, 50, 50, 50, 49])\n",
      "It's a beautiful day! Sky falls, you feel like It's a beautiful day. Don't let it get away! You're on the road, but you've got no destination? You're in the mud, in the maze of her imagination! You love this town even if that doesn't ring true. You've been all over, and it's been all over you.\n"
     ]
    }
   ],
   "source": [
    "def new_st_counter(s):\n",
    "    d = {}\n",
    "    s_lower = s.lower()\n",
    "    for char in s:\n",
    "        if not char.isalpha():\n",
    "            if char in d:\n",
    "                d[char] += 1\n",
    "            else:\n",
    "                d[char] = 1\n",
    "    \n",
    "    for punc in \"!?\":\n",
    "        s_lower = s_lower.replace(punc,'.')\n",
    "    sents = s_lower.split('.') \n",
    "    sents = list(filter(None,sents))\n",
    "    sen_count = len(sents)\n",
    "    \n",
    "    words = []\n",
    "    for elem in sents:\n",
    "        words += elem.split()\n",
    "    contractions = []\n",
    "    for word in words:\n",
    "        if \"\\'\" in word and \"\\'\" not in word[-1]:\n",
    "            contractions += [word]\n",
    "    \n",
    "    avg_len_sent = []\n",
    "    for sent in sents:\n",
    "        avg_len_sent += [len(sent.split())]\n",
    "        \n",
    "    avg_len_sent_char = []\n",
    "    for sent in sents:\n",
    "        avg_len_sent_char += [len(sent)]\n",
    "    \n",
    "    return d, sen_count, contractions, avg_len_sent, avg_len_sent_char\n",
    "    \n",
    "\n",
    "\n",
    "str1 = 'Just a small-town girl Livin\\' in a lonely world! She took the midnight train goin\\' anywhere. Just a city boy Born and raised in South Detroit. He took the midnight train goin\\' anywhere? A singer in a smoky room. The smell of wine and cheap perfume? For a smile they can share the night It goes on and on, and on, and on. Strangers waiting Up and down the boulevard. Their shadows searching in the night! Streetlights people Livin\\' just to find emotion! Hidin\\' somewhere in the night!'\n",
    "str2 = 'It\\'s a beautiful day! Sky falls, you feel like It\\'s a beautiful day. Don\\'t let it get away! You\\'re on the road, but you\\'ve got no destination? You\\'re in the mud, in the maze of her imagination! You love this town even if that doesn\\'t ring true. You\\'ve been all over, and it\\'s been all over you.'\n",
    "\n",
    "\n",
    "print(new_st_counter(str2))\n",
    "# print(new_st_counter(str2))\n",
    "print(str2)\n",
    "# print(str2)"
   ]
  },
  {
   "cell_type": "code",
   "execution_count": null,
   "metadata": {},
   "outputs": [],
   "source": []
  }
 ],
 "metadata": {
  "kernelspec": {
   "display_name": "Python 3",
   "language": "python",
   "name": "python3"
  },
  "language_info": {
   "codemirror_mode": {
    "name": "ipython",
    "version": 3
   },
   "file_extension": ".py",
   "mimetype": "text/x-python",
   "name": "python",
   "nbconvert_exporter": "python",
   "pygments_lexer": "ipython3",
   "version": "3.7.6"
  }
 },
 "nbformat": 4,
 "nbformat_minor": 4
}
